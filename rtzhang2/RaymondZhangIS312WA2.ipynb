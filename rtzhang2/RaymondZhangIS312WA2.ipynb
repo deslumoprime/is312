{
 "cells": [
  {
   "cell_type": "markdown",
   "id": "52c8c4db",
   "metadata": {},
   "source": [
    "# **WA2 — Studying Studying: Is There A Recipe For High Marks in School?**"
   ]
  },
  {
   "cell_type": "markdown",
   "id": "fa771112",
   "metadata": {},
   "source": [
    "## **0.a Imports for Required Libraries**"
   ]
  },
  {
   "cell_type": "code",
   "execution_count": null,
   "id": "9d90a0a1",
   "metadata": {},
   "outputs": [],
   "source": [
    "import pandas as pd\n",
    "import numpy as np\n",
    "import matplotlib.pyplot as plt\n",
    "import scipy\n",
    "from sklearn.linear_model import LinearRegression\n",
    "from sklearn.ensemble import RandomForestRegressor\n",
    "from sklearn.metrics import r2_score, mean_squared_error\n",
    "from sklearn.model_selection import train_test_split"
   ]
  },
  {
   "cell_type": "markdown",
   "id": "d0c3dc64",
   "metadata": {},
   "source": [
    "## **0.b Dataset Onboarding & Basic Renaming for Better Readability + Referenceability**"
   ]
  },
  {
   "cell_type": "code",
   "execution_count": 181,
   "id": "0b4a909a",
   "metadata": {},
   "outputs": [
    {
     "data": {
      "application/vnd.microsoft.datawrangler.viewer.v0+json": {
       "columns": [
        {
         "name": "index",
         "rawType": "int64",
         "type": "integer"
        },
        {
         "name": "Sex",
         "rawType": "object",
         "type": "string"
        },
        {
         "name": "HoursPerWeekStudy",
         "rawType": "float64",
         "type": "float"
        },
        {
         "name": "Tutoring",
         "rawType": "object",
         "type": "string"
        },
        {
         "name": "Region",
         "rawType": "object",
         "type": "string"
        },
        {
         "name": "Attendance",
         "rawType": "float64",
         "type": "float"
        },
        {
         "name": "ParentEdu",
         "rawType": "object",
         "type": "string"
        },
        {
         "name": "Score",
         "rawType": "float64",
         "type": "float"
        }
       ],
       "ref": "70d0d831-8c59-4abc-9afc-ffa434e7db67",
       "rows": [
        [
         "0",
         "Male",
         "5.5",
         "No",
         "Urban",
         "72.7",
         "Tertiary",
         "43.5"
        ],
        [
         "1",
         "Female",
         "6.8",
         "No",
         "Urban",
         "62.0",
         "Primary",
         "51.7"
        ],
        [
         "2",
         "Female",
         "9.7",
         "No",
         "Rural",
         "95.0",
         "Secondary",
         "70.1"
        ],
        [
         "5",
         "Female",
         "7.9",
         "No",
         "Urban",
         "73.7",
         "Tertiary",
         "58.8"
        ],
        [
         "6",
         "Female",
         "7.6",
         "No",
         "Urban",
         "79.5",
         "Secondary",
         "64.8"
        ],
        [
         "7",
         "Female",
         "12.3",
         "Yes",
         "Urban",
         "98.4",
         "Secondary",
         "100.0"
        ],
        [
         "8",
         "Female",
         "10.6",
         "Yes",
         "Rural",
         "72.3",
         "Primary",
         "87.8"
        ],
        [
         "9",
         "Female",
         "9.9",
         "No",
         "Rural",
         "73.2",
         "Tertiary",
         "67.0"
        ],
        [
         "10",
         "Female",
         "3.9",
         "No",
         "Urban",
         "89.7",
         "Tertiary",
         "48.8"
        ],
        [
         "12",
         "Male",
         "14.0",
         "Yes",
         "Rural",
         "89.1",
         "Tertiary",
         "100.0"
        ],
        [
         "13",
         "Female",
         "9.1",
         "Yes",
         "Rural",
         "62.0",
         "Primary",
         "75.8"
        ],
        [
         "14",
         "Male",
         "15.3",
         "Yes",
         "Urban",
         "77.2",
         "Tertiary",
         "100.0"
        ],
        [
         "15",
         "Male",
         "10.6",
         "Yes",
         "Rural",
         "76.9",
         "Secondary",
         "72.4"
        ],
        [
         "16",
         "Male",
         "9.1",
         "No",
         "Rural",
         "78.5",
         "Secondary",
         "56.4"
        ],
        [
         "18",
         "Male",
         "7.1",
         "No",
         "Rural",
         "69.7",
         "Tertiary",
         "42.6"
        ],
        [
         "19",
         "Female",
         "9.0",
         "No",
         "Urban",
         "61.5",
         "Secondary",
         "60.8"
        ],
        [
         "20",
         "Male",
         "11.8",
         "Yes",
         "Urban",
         "74.4",
         "Secondary",
         "82.3"
        ],
        [
         "21",
         "Female",
         "9.7",
         "Yes",
         "Urban",
         "58.9",
         "Tertiary",
         "75.9"
        ],
        [
         "22",
         "Female",
         "5.1",
         "No",
         "Urban",
         "50.4",
         "Primary",
         "42.7"
        ],
        [
         "23",
         "Male",
         "5.4",
         "No",
         "Rural",
         "50.1",
         "Tertiary",
         "34.8"
        ],
        [
         "24",
         "Male",
         "13.9",
         "No",
         "Urban",
         "70.4",
         "Secondary",
         "88.9"
        ],
        [
         "25",
         "Female",
         "9.4",
         "No",
         "Urban",
         "71.4",
         "Tertiary",
         "67.9"
        ],
        [
         "26",
         "Female",
         "0.0",
         "Yes",
         "Urban",
         "60.8",
         "Tertiary",
         "44.1"
        ],
        [
         "27",
         "Female",
         "14.1",
         "Yes",
         "Rural",
         "79.8",
         "Secondary",
         "89.5"
        ],
        [
         "30",
         "Female",
         "15.4",
         "No",
         "Urban",
         "99.5",
         "Tertiary",
         "94.0"
        ],
        [
         "31",
         "Male",
         "4.8",
         "No",
         "Urban",
         "98.9",
         "Secondary",
         "57.2"
        ],
        [
         "32",
         "Female",
         "11.3",
         "Yes",
         "Urban",
         "87.2",
         "Secondary",
         "91.0"
        ],
        [
         "33",
         "Male",
         "7.4",
         "Yes",
         "Urban",
         "60.6",
         "Tertiary",
         "70.1"
        ],
        [
         "34",
         "Female",
         "16.0",
         "No",
         "Urban",
         "92.4",
         "Secondary",
         "100.0"
        ],
        [
         "35",
         "Female",
         "10.7",
         "No",
         "Urban",
         "80.6",
         "Tertiary",
         "74.6"
        ],
        [
         "37",
         "Female",
         "2.7",
         "No",
         "Rural",
         "79.2",
         "Primary",
         "38.5"
        ],
        [
         "38",
         "Female",
         "6.3",
         "No",
         "Rural",
         "71.6",
         "Tertiary",
         "52.7"
        ],
        [
         "39",
         "Male",
         "6.2",
         "No",
         "Urban",
         "70.8",
         "Tertiary",
         "54.6"
        ],
        [
         "40",
         "Male",
         "6.3",
         "No",
         "Rural",
         "98.2",
         "Tertiary",
         "56.4"
        ],
        [
         "41",
         "Female",
         "12.6",
         "Yes",
         "Urban",
         "95.9",
         "Secondary",
         "93.9"
        ],
        [
         "42",
         "Male",
         "10.4",
         "No",
         "Urban",
         "99.9",
         "Tertiary",
         "77.1"
        ],
        [
         "43",
         "Female",
         "14.9",
         "No",
         "Rural",
         "84.5",
         "Tertiary",
         "92.7"
        ],
        [
         "44",
         "Female",
         "9.1",
         "Yes",
         "Urban",
         "84.9",
         "Secondary",
         "87.2"
        ],
        [
         "45",
         "Female",
         "9.0",
         "No",
         "Urban",
         "96.9",
         "Primary",
         "68.1"
        ],
        [
         "47",
         "Female",
         "7.9",
         "Yes",
         "Rural",
         "71.1",
         "Tertiary",
         "75.2"
        ],
        [
         "48",
         "Male",
         "10.7",
         "No",
         "Urban",
         "57.0",
         "Primary",
         "63.9"
        ],
        [
         "49",
         "Female",
         "12.8",
         "Yes",
         "Urban",
         "50.0",
         "Secondary",
         "91.5"
        ],
        [
         "50",
         "Male",
         "10.9",
         "No",
         "Urban",
         "58.7",
         "Secondary",
         "66.6"
        ],
        [
         "51",
         "Female",
         "11.8",
         "Yes",
         "Rural",
         "78.0",
         "Secondary",
         "85.7"
        ],
        [
         "52",
         "Female",
         "7.6",
         "No",
         "Rural",
         "96.6",
         "Tertiary",
         "65.2"
        ],
        [
         "53",
         "Female",
         "6.8",
         "Yes",
         "Urban",
         "52.4",
         "Secondary",
         "70.6"
        ],
        [
         "54",
         "Female",
         "7.7",
         "No",
         "Rural",
         "93.2",
         "Tertiary",
         "64.5"
        ],
        [
         "55",
         "Male",
         "2.7",
         "Yes",
         "Rural",
         "55.6",
         "Tertiary",
         "46.5"
        ],
        [
         "56",
         "Female",
         "8.2",
         "Yes",
         "Urban",
         "61.5",
         "Primary",
         "66.7"
        ],
        [
         "57",
         "Male",
         "8.2",
         "No",
         "Rural",
         "65.0",
         "Secondary",
         "52.5"
        ]
       ],
       "shape": {
        "columns": 7,
        "rows": 3578
       }
      },
      "text/html": [
       "<div>\n",
       "<style scoped>\n",
       "    .dataframe tbody tr th:only-of-type {\n",
       "        vertical-align: middle;\n",
       "    }\n",
       "\n",
       "    .dataframe tbody tr th {\n",
       "        vertical-align: top;\n",
       "    }\n",
       "\n",
       "    .dataframe thead th {\n",
       "        text-align: right;\n",
       "    }\n",
       "</style>\n",
       "<table border=\"1\" class=\"dataframe\">\n",
       "  <thead>\n",
       "    <tr style=\"text-align: right;\">\n",
       "      <th></th>\n",
       "      <th>Sex</th>\n",
       "      <th>HoursPerWeekStudy</th>\n",
       "      <th>Tutoring</th>\n",
       "      <th>Region</th>\n",
       "      <th>Attendance</th>\n",
       "      <th>ParentEdu</th>\n",
       "      <th>Score</th>\n",
       "    </tr>\n",
       "  </thead>\n",
       "  <tbody>\n",
       "    <tr>\n",
       "      <th>0</th>\n",
       "      <td>Male</td>\n",
       "      <td>5.5</td>\n",
       "      <td>No</td>\n",
       "      <td>Urban</td>\n",
       "      <td>72.7</td>\n",
       "      <td>Tertiary</td>\n",
       "      <td>43.5</td>\n",
       "    </tr>\n",
       "    <tr>\n",
       "      <th>1</th>\n",
       "      <td>Female</td>\n",
       "      <td>6.8</td>\n",
       "      <td>No</td>\n",
       "      <td>Urban</td>\n",
       "      <td>62.0</td>\n",
       "      <td>Primary</td>\n",
       "      <td>51.7</td>\n",
       "    </tr>\n",
       "    <tr>\n",
       "      <th>2</th>\n",
       "      <td>Female</td>\n",
       "      <td>9.7</td>\n",
       "      <td>No</td>\n",
       "      <td>Rural</td>\n",
       "      <td>95.0</td>\n",
       "      <td>Secondary</td>\n",
       "      <td>70.1</td>\n",
       "    </tr>\n",
       "    <tr>\n",
       "      <th>5</th>\n",
       "      <td>Female</td>\n",
       "      <td>7.9</td>\n",
       "      <td>No</td>\n",
       "      <td>Urban</td>\n",
       "      <td>73.7</td>\n",
       "      <td>Tertiary</td>\n",
       "      <td>58.8</td>\n",
       "    </tr>\n",
       "    <tr>\n",
       "      <th>6</th>\n",
       "      <td>Female</td>\n",
       "      <td>7.6</td>\n",
       "      <td>No</td>\n",
       "      <td>Urban</td>\n",
       "      <td>79.5</td>\n",
       "      <td>Secondary</td>\n",
       "      <td>64.8</td>\n",
       "    </tr>\n",
       "    <tr>\n",
       "      <th>...</th>\n",
       "      <td>...</td>\n",
       "      <td>...</td>\n",
       "      <td>...</td>\n",
       "      <td>...</td>\n",
       "      <td>...</td>\n",
       "      <td>...</td>\n",
       "      <td>...</td>\n",
       "    </tr>\n",
       "    <tr>\n",
       "      <th>3995</th>\n",
       "      <td>Male</td>\n",
       "      <td>11.3</td>\n",
       "      <td>Yes</td>\n",
       "      <td>Urban</td>\n",
       "      <td>79.5</td>\n",
       "      <td>Secondary</td>\n",
       "      <td>93.5</td>\n",
       "    </tr>\n",
       "    <tr>\n",
       "      <th>3996</th>\n",
       "      <td>Male</td>\n",
       "      <td>3.7</td>\n",
       "      <td>Yes</td>\n",
       "      <td>Urban</td>\n",
       "      <td>50.7</td>\n",
       "      <td>Tertiary</td>\n",
       "      <td>53.8</td>\n",
       "    </tr>\n",
       "    <tr>\n",
       "      <th>3997</th>\n",
       "      <td>Female</td>\n",
       "      <td>0.0</td>\n",
       "      <td>No</td>\n",
       "      <td>Rural</td>\n",
       "      <td>72.7</td>\n",
       "      <td>Tertiary</td>\n",
       "      <td>25.4</td>\n",
       "    </tr>\n",
       "    <tr>\n",
       "      <th>3998</th>\n",
       "      <td>Male</td>\n",
       "      <td>4.0</td>\n",
       "      <td>No</td>\n",
       "      <td>Urban</td>\n",
       "      <td>62.2</td>\n",
       "      <td>Tertiary</td>\n",
       "      <td>40.3</td>\n",
       "    </tr>\n",
       "    <tr>\n",
       "      <th>3999</th>\n",
       "      <td>Male</td>\n",
       "      <td>7.8</td>\n",
       "      <td>No</td>\n",
       "      <td>Rural</td>\n",
       "      <td>79.6</td>\n",
       "      <td>Primary</td>\n",
       "      <td>62.0</td>\n",
       "    </tr>\n",
       "  </tbody>\n",
       "</table>\n",
       "<p>3578 rows × 7 columns</p>\n",
       "</div>"
      ],
      "text/plain": [
       "         Sex  HoursPerWeekStudy Tutoring Region  Attendance  ParentEdu  Score\n",
       "0       Male                5.5       No  Urban        72.7   Tertiary   43.5\n",
       "1     Female                6.8       No  Urban        62.0    Primary   51.7\n",
       "2     Female                9.7       No  Rural        95.0  Secondary   70.1\n",
       "5     Female                7.9       No  Urban        73.7   Tertiary   58.8\n",
       "6     Female                7.6       No  Urban        79.5  Secondary   64.8\n",
       "...      ...                ...      ...    ...         ...        ...    ...\n",
       "3995    Male               11.3      Yes  Urban        79.5  Secondary   93.5\n",
       "3996    Male                3.7      Yes  Urban        50.7   Tertiary   53.8\n",
       "3997  Female                0.0       No  Rural        72.7   Tertiary   25.4\n",
       "3998    Male                4.0       No  Urban        62.2   Tertiary   40.3\n",
       "3999    Male                7.8       No  Rural        79.6    Primary   62.0\n",
       "\n",
       "[3578 rows x 7 columns]"
      ]
     },
     "execution_count": 181,
     "metadata": {},
     "output_type": "execute_result"
    }
   ],
   "source": [
    "df1 = pd.read_csv(\"SAP-4000.csv\")\n",
    "df1 = df1.rename(columns={\"Gender\":\"Sex\", \n",
    "                          \"HoursStudied/Week\":\"HoursPerWeekStudy\", \n",
    "                          \"Attendance(%)\":\"Attendance\", \n",
    "                          \"Exam_Score\":\"Score\", \n",
    "                          \"Parent Education\":\"ParentEdu\"})\n",
    "df1=df1.dropna(); df1"
   ]
  },
  {
   "cell_type": "markdown",
   "id": "a218a8ca",
   "metadata": {},
   "source": [
    "## **1.a Introduction, About the Dataset, Intended Audience**"
   ]
  },
  {
   "cell_type": "markdown",
   "id": "bd55ef79",
   "metadata": {},
   "source": [
    "Academic examinations are employed by almost all educational programs across the world, and come in a variety of different configurations. These can range from a quick daily quiz on the previous lecture material to a cumulative marathon scantron encompassing a semester's worth of content. It's almost guaranteed that a test that a student takes in his lifetime will each be unique from all others from the past. \n",
    "\n",
    "However, for almost all tests, there is a general strategy for success that seems to be replicatable for basically everyone. If one was to go around and ask other students how they are able to succeed on tests, the advice would be relatively summed up by these three points:\n",
    "\n",
    "1) Learn new material. \n",
    "\n",
    "2) Review/relearn past material as you progress into newer material.\n",
    "\n",
    "3) Practice answering questions that emulate those from the test. \n",
    "\n",
    "It would make sense too — if we were to take a panel of top scorers from the AP Calculus BC exam from last year, it is sensible these students knew the material well, relearned/reviewed older material, and practiced MCQ and FRQ questions from past years. \n",
    "\n",
    "An exam called the Evaluación de Bachillerato para el Acceso a la Universidad (EBAU), which is also better known as the Selectividad, is a college-entrance exam and verification of completion of secondary school that is taken by students after finishing the equivalent of high school. A mark on the Selectividad can make or break a student's future in higher education, so doing well is vital. \n",
    "\n",
    "However, the general strategy drawn above can easily be disrupted. Here are some examples: \n",
    "\n",
    "1) John is a high school senior in Calculus. He transferred from a country that did not require anything above the equivalent of Algebra I to be taken. As such, the highest level of math John knows is Alg I. John subsequently cannot even complete 1) because he is unable to learn due to the fact that he lacks a foundation in mathematics. \n",
    "\n",
    "2) Ben is a classmate of John, also a senior, but has been attending school in the area since 1st grade. He has all the Precalc prereqs to learn new material, but the course materials and resources are online, and Ben does not have a computer at home, meaning his ability to review on his own time is limited to when he is at school or at the library / coffee shop. \n",
    "\n",
    "3) Peter is also a classmate of John and Ben. Senior, attending school in the area since 1st grade. While Peter is the most prepared of the three, he is unable to practice test questions because this year, the Calculus exam has been majorly revamped. Suddenly, all the questions are different enough that the last test's questions are inadequate. \n",
    "\n",
    "As such, it becomes apparent that being able to predict test scores from demographics could allow intervention during the learning process to hopefully improve scores in the future, rather than finding out later that students were struggling and recieving disappointing scores. \n",
    "\n",
    "This dataset was obtained from Kaggle.com's extensive supply of datasets, and contains 4,000 anonymized datapoints containing fields about a student's demographic information (Gender, HoursStudied/Week, Tutoring?, Urban/Rural, Attendance Rate, Highest Level of Parent Education) as well as respective student's mark on the Selectividad. While this dataset is pretty great, there were about 422 datapoints that were dropped because they were missing data in some fields. This can be considered a considerable portion of the original data that was trimmed away, and this is my disclaimer, if this trimming has any statistically significant impact on the findings. \n",
    "\n",
    "This project and literate programming document, methods, and its findings are targetted towards parents, educators, and governments. It should serve to inform and guide future actions, policies, and regulations in the common interest for a smarter and more capable next generation of minds. "
   ]
  },
  {
   "cell_type": "markdown",
   "id": "26e7457a",
   "metadata": {},
   "source": [
    "## **1.b Statement of Argument**"
   ]
  },
  {
   "cell_type": "markdown",
   "id": "d47350b4",
   "metadata": {},
   "source": [
    "My prediction is that, on average, classifying as RURAL, NO for Tutoring, Primary for ParentEdu, or having low HoursPerWeekStudy will decrease the average score. If we really dumb these down, on average, we would likely expect that a large number of students with ALL of these traits will have low average scores. \n",
    "\n",
    "I like to argue that a student's performance on the Selectividad **IS HIGHLY CORRELATED** with the fields provided in the SAP-4000 dataset — in other words, given a substantial amount of data about students, we can predict a student's score with enough accuracy for IRL implementations for \"educational measures\". This would mean that an \"at risk for failing\" group would receive additional instruction time and guidance to help them out.  \n",
    "\n",
    "The broader implication of this is that we can basically guarantee or drastically increase the chances that any student can take on the career they want to pursue. If a rural girl wants to be head neurosurgeon in 20 years, our education system allows a passionate first gen rural girl who's never seen the outside of her family farm to do what she loves, and actually compete with someone like a burnt out nepo baby white privileged male who has a lineage of neurosurgery in the family, and therefore doesn't have to work hard at all to get his job compared to the rural girl. "
   ]
  },
  {
   "cell_type": "markdown",
   "id": "5a6c10f3",
   "metadata": {},
   "source": [
    "## **2. Placeholder**"
   ]
  },
  {
   "cell_type": "markdown",
   "id": "6e0fd78e",
   "metadata": {},
   "source": [
    "## **3. EDA**"
   ]
  },
  {
   "cell_type": "markdown",
   "id": "3a50fa94",
   "metadata": {},
   "source": [
    "This is a fun section because key insights about the data that can answer a lot of question can be revealed with speed and ease. "
   ]
  },
  {
   "cell_type": "markdown",
   "id": "afbd4a20",
   "metadata": {},
   "source": [
    "First, I simply want to look at the distribution of Rural vs Urban students. From the code, it becomes clear that Urban students outnumber Rural ones. There are multiple explanations for this:\n",
    "\n",
    "1) More adults live in cities than in rural areas, and assuming that the average number of children per couple is the same for both regions, Urban would have more students that go on to outnumber their rural counterparts in this dataset.\n",
    "\n",
    "2) Urban students are more likely to reach the point of taking the Selectividad than Rural ones. This metric would be based on percentage of Urban students who make it, and percentage of Rural students who make it, rather than raw counts. \n",
    "\n",
    "3) Urban couples have a higher average children per couple than Rural couples. \n",
    "\n",
    "There are likely more reasons, and the disparity between the two is likely a combination of all of the relevant factors. "
   ]
  },
  {
   "cell_type": "code",
   "execution_count": 182,
   "id": "df7c1c78",
   "metadata": {},
   "outputs": [
    {
     "data": {
      "application/vnd.microsoft.datawrangler.viewer.v0+json": {
       "columns": [
        {
         "name": "index",
         "rawType": "int64",
         "type": "integer"
        },
        {
         "name": "Region",
         "rawType": "object",
         "type": "string"
        },
        {
         "name": "Score",
         "rawType": "int64",
         "type": "integer"
        }
       ],
       "ref": "9f75e104-670a-4942-abdb-ab5e3b1e2952",
       "rows": [
        [
         "0",
         "Rural",
         "1404"
        ],
        [
         "1",
         "Urban",
         "2174"
        ]
       ],
       "shape": {
        "columns": 2,
        "rows": 2
       }
      },
      "text/html": [
       "<div>\n",
       "<style scoped>\n",
       "    .dataframe tbody tr th:only-of-type {\n",
       "        vertical-align: middle;\n",
       "    }\n",
       "\n",
       "    .dataframe tbody tr th {\n",
       "        vertical-align: top;\n",
       "    }\n",
       "\n",
       "    .dataframe thead th {\n",
       "        text-align: right;\n",
       "    }\n",
       "</style>\n",
       "<table border=\"1\" class=\"dataframe\">\n",
       "  <thead>\n",
       "    <tr style=\"text-align: right;\">\n",
       "      <th></th>\n",
       "      <th>Region</th>\n",
       "      <th>Score</th>\n",
       "    </tr>\n",
       "  </thead>\n",
       "  <tbody>\n",
       "    <tr>\n",
       "      <th>0</th>\n",
       "      <td>Rural</td>\n",
       "      <td>1404</td>\n",
       "    </tr>\n",
       "    <tr>\n",
       "      <th>1</th>\n",
       "      <td>Urban</td>\n",
       "      <td>2174</td>\n",
       "    </tr>\n",
       "  </tbody>\n",
       "</table>\n",
       "</div>"
      ],
      "text/plain": [
       "  Region  Score\n",
       "0  Rural   1404\n",
       "1  Urban   2174"
      ]
     },
     "execution_count": 182,
     "metadata": {},
     "output_type": "execute_result"
    }
   ],
   "source": [
    "df1.groupby(\"Region\").agg(\"count\").reset_index()[[\"Region\", \"Score\"]]"
   ]
  },
  {
   "cell_type": "markdown",
   "id": "5415555e",
   "metadata": {},
   "source": [
    "Here are the summary stats for how Selectividad scores for URBAN students stratified by ParentEdu (Primary, Secondary, Tertiary) differ from having No Tutor to Yes Tutor. If my explanation is too long, the below vars and code should be pretty self explanatory as to how I filtered for and obtained my statistics. \n",
    "\n",
    "An interesting observation that we can observe is how for students who are URBAN and have NO TUTOR, higher parent education level is correlated with higher mean, min, q1, median, and q3 test scores on the Selectividad. The jump from PRIMARY to TERTIARY for parental education level leads to about +4 for mean, +8 for min, +3 for median. I'm not going to list them all out, but the general trend is that higher parental education level is correlated with an *appreciable* increase in Selectividad test score.\n",
    "\n",
    "A similar trend is present for the students who have YES TUTOR, where on average, having higher parental education levels is correlated with higher test scores for the student. \n",
    "\n",
    "Another interesting note is that the students who had a tutor seemed to do significantly better than those without. Whether this is really just answering YES or NO to the question: Are you absoletely loaded with money? is outside the scope of my argument, but still, it's interesting. Mean scores for NO TUTOR were 66.7, 68.3, and 70.3 for P, S, and T resp. For YES TUTOR, these means were 79.5, 82.1, and 83.7. \n",
    "\n",
    "The difference in having a tutor or not, creates a gap of ~9.2 points, and this is compared between the best of NO TUTOR, and the worst of YES TUTOR. Comparing equivalent parental education levels between the groups makes this comparison seem downright unfair, with differeneces being ~10pts for the Secondary groups, to ~13pts for the P and T groups. \n",
    "\n",
    "Essentially, on average, a family can buy 10 points on the selectividad. "
   ]
  },
  {
   "cell_type": "code",
   "execution_count": 183,
   "id": "0632662f",
   "metadata": {},
   "outputs": [
    {
     "name": "stdout",
     "output_type": "stream",
     "text": [
      "urbanPrimaryNotutScore {'count': 332.0, 'mean': 66.70481927710843, 'std': 15.27203200620862, 'min': 20.0, '25%': 55.7, '50%': 67.35, '75%': 78.45, 'max': 100.0} \n",
      "urbanSecondaryNotutScore {'count': 681.0, 'mean': 68.31424375917769, 'std': 16.00829802447762, 'min': 21.6, '25%': 57.2, '50%': 68.6, '75%': 80.4, 'max': 100.0} \n",
      "urbanTertiaryNotutScore {'count': 499.0, 'mean': 70.30981963927856, 'std': 15.893585751481439, 'min': 27.9, '25%': 59.4, '50%': 70.8, '75%': 82.05000000000001, 'max': 100.0}\n"
     ]
    }
   ],
   "source": [
    "# Urban, P/S/T, No Tutor\n",
    "\n",
    "urbanPrimaryNotutScore = df1[(df1.Region==\"Urban\") & (df1.ParentEdu==\"Primary\") & (df1.Tutoring==\"No\")].Score.describe().to_dict()\n",
    "urbanSecondaryNotutScore = df1[(df1.Region==\"Urban\") & (df1.ParentEdu==\"Secondary\") & (df1.Tutoring==\"No\")].Score.describe().to_dict()\n",
    "urbanTertiaryNotutScore = df1[(df1.Region==\"Urban\") & (df1.ParentEdu==\"Tertiary\") & (df1.Tutoring==\"No\")].Score.describe().to_dict()\n",
    "\n",
    "print(f\"urbanPrimaryNotutScore {urbanPrimaryNotutScore} \\nurbanSecondaryNotutScore {urbanSecondaryNotutScore} \\nurbanTertiaryNotutScore {urbanTertiaryNotutScore}\")"
   ]
  },
  {
   "cell_type": "code",
   "execution_count": 184,
   "id": "4a0f205d",
   "metadata": {},
   "outputs": [
    {
     "name": "stdout",
     "output_type": "stream",
     "text": [
      "urbanPrimaryYestutScore {'count': 142.0, 'mean': 79.46478873239437, 'std': 15.162796001370028, 'min': 41.1, '25%': 70.175, '50%': 80.55000000000001, '75%': 90.75, 'max': 100.0} \n",
      "urbanSecondaryYestutScore {'count': 306.0, 'mean': 82.11307189542484, 'std': 14.229434710200659, 'min': 36.1, '25%': 72.42500000000001, '50%': 82.55000000000001, '75%': 94.875, 'max': 100.0} \n",
      "urbanTertiaryYestutScore {'count': 214.0, 'mean': 83.68691588785046, 'std': 14.227428935178978, 'min': 37.3, '25%': 74.7, '50%': 84.55, '75%': 97.725, 'max': 100.0}\n"
     ]
    }
   ],
   "source": [
    "# Urban, P/S/T, Yes Tutor\n",
    "\n",
    "urbanPrimaryYestutScore = df1[(df1.Region==\"Urban\") & (df1.ParentEdu==\"Primary\") & (df1.Tutoring==\"Yes\")].Score.describe().to_dict()\n",
    "urbanSecondaryYestutScore = df1[(df1.Region==\"Urban\") & (df1.ParentEdu==\"Secondary\") & (df1.Tutoring==\"Yes\")].Score.describe().to_dict()\n",
    "urbanTertiaryYestutScore = df1[(df1.Region==\"Urban\") & (df1.ParentEdu==\"Tertiary\") & (df1.Tutoring==\"Yes\")].Score.describe().to_dict()\n",
    "\n",
    "print(f\"urbanPrimaryYestutScore {urbanPrimaryYestutScore} \\nurbanSecondaryYestutScore {urbanSecondaryYestutScore} \\nurbanTertiaryYestutScore {urbanTertiaryYestutScore}\")"
   ]
  },
  {
   "cell_type": "markdown",
   "id": "4777a68f",
   "metadata": {},
   "source": [
    "I want to check something though: how does RURAL vs URBAN play a role here?\n",
    "\n",
    "The interesting answer is that it depends on what your situation is. I'm going to use median for the measure of central tendency for the test scores because I expect score dists to be skewed in some way.  \n",
    "\n",
    "For students with NO TUTOR, the difference between URBAN and RURAL is roughly +3pts for students with parents with P, S, and T. Interestingly, this doesn't reflect for those with YES TUTOR, as the RURAL vs URBAN difference is only roughly +1pt. But, there is an exception: for students who have both YES TUTOR and TERTIARY parental education, the difference is, yet again, +3pts. \n",
    "\n",
    "Yet another interesting observation is that the interquartile range (25%tile to 75%tile) of every one of these groups is around 20pts, which means that despite these factors changing, no group is *significantly more consistent* or variable than the next. Standard deviations also reflect this fact that no one group is significantly more variable or less variable than the next, with std values hovering around 14-16pts. "
   ]
  },
  {
   "cell_type": "code",
   "execution_count": 185,
   "id": "e45fc39b",
   "metadata": {},
   "outputs": [
    {
     "name": "stdout",
     "output_type": "stream",
     "text": [
      "Rural Primary No{'count': 227.0, 'mean': 62.82731277533039, 'std': 14.879954839353772, 'min': 16.6, '25%': 54.1, '50%': 63.0, '75%': 72.1, 'max': 95.3} \n",
      "Urban Primary No{'count': 332.0, 'mean': 66.70481927710843, 'std': 15.27203200620862, 'min': 20.0, '25%': 55.7, '50%': 67.35, '75%': 78.45, 'max': 100.0}\n",
      "Rural Secondary No{'count': 415.0, 'mean': 63.71566265060241, 'std': 15.178557863747088, 'min': 23.4, '25%': 52.8, '50%': 63.4, '75%': 74.8, 'max': 100.0}\n",
      "Urban Secondary No{'count': 681.0, 'mean': 68.31424375917769, 'std': 16.00829802447762, 'min': 21.6, '25%': 57.2, '50%': 68.6, '75%': 80.4, 'max': 100.0}\n",
      "Rural Tertiary No{'count': 318.0, 'mean': 67.18993710691824, 'std': 15.327098926744995, 'min': 24.6, '25%': 57.4, '50%': 67.6, '75%': 77.775, 'max': 100.0}\n",
      "Urban Tertiary No{'count': 499.0, 'mean': 70.30981963927856, 'std': 15.893585751481439, 'min': 27.9, '25%': 59.4, '50%': 70.8, '75%': 82.05000000000001, 'max': 100.0}\n"
     ]
    }
   ],
   "source": [
    "w1=df1[(df1.Region==\"Rural\") & (df1.ParentEdu==\"Primary\") & (df1.Tutoring==\"No\")].Score.describe().to_dict()\n",
    "w2=df1[(df1.Region==\"Urban\") & (df1.ParentEdu==\"Primary\") & (df1.Tutoring==\"No\")].Score.describe().to_dict()\n",
    "w3=df1[(df1.Region==\"Rural\") & (df1.ParentEdu==\"Secondary\") & (df1.Tutoring==\"No\")].Score.describe().to_dict()\n",
    "w4=df1[(df1.Region==\"Urban\") & (df1.ParentEdu==\"Secondary\") & (df1.Tutoring==\"No\")].Score.describe().to_dict()\n",
    "w5=df1[(df1.Region==\"Rural\") & (df1.ParentEdu==\"Tertiary\") & (df1.Tutoring==\"No\")].Score.describe().to_dict()\n",
    "w6=df1[(df1.Region==\"Urban\") & (df1.ParentEdu==\"Tertiary\") & (df1.Tutoring==\"No\")].Score.describe().to_dict()\n",
    "\n",
    "print(f\"Rural Primary No{w1} \\nUrban Primary No{w2}\\nRural Secondary No{w3}\\nUrban Secondary No{w4}\\nRural Tertiary No{w5}\\nUrban Tertiary No{w6}\")"
   ]
  },
  {
   "cell_type": "code",
   "execution_count": 186,
   "id": "d330c0ea",
   "metadata": {},
   "outputs": [
    {
     "name": "stdout",
     "output_type": "stream",
     "text": [
      "Rural Primary Yes{'count': 112.0, 'mean': 78.8, 'std': 14.256580588980308, 'min': 49.2, '25%': 67.4, '50%': 79.3, '75%': 89.725, 'max': 100.0} \n",
      "Urban Primary Yes{'count': 142.0, 'mean': 79.46478873239437, 'std': 15.162796001370028, 'min': 41.1, '25%': 70.175, '50%': 80.55000000000001, '75%': 90.75, 'max': 100.0}\n",
      "Rural Secondary Yes{'count': 188.0, 'mean': 79.90478723404256, 'std': 13.507927102516323, 'min': 36.5, '25%': 72.2, '50%': 81.75, '75%': 90.2, 'max': 100.0}\n",
      "Urban Secondary Yes{'count': 306.0, 'mean': 82.11307189542484, 'std': 14.229434710200659, 'min': 36.1, '25%': 72.42500000000001, '50%': 82.55000000000001, '75%': 94.875, 'max': 100.0}\n",
      "Rural Tertiary Yes{'count': 144.0, 'mean': 80.82916666666667, 'std': 15.029392531308106, 'min': 35.9, '25%': 70.875, '50%': 81.2, '75%': 93.975, 'max': 100.0}\n",
      "Urban Tertiary Yes{'count': 214.0, 'mean': 83.68691588785046, 'std': 14.227428935178978, 'min': 37.3, '25%': 74.7, '50%': 84.55, '75%': 97.725, 'max': 100.0}\n"
     ]
    }
   ],
   "source": [
    "v1=df1[(df1.Region==\"Rural\") & (df1.ParentEdu==\"Primary\") & (df1.Tutoring==\"Yes\")].Score.describe().to_dict()\n",
    "v2=df1[(df1.Region==\"Urban\") & (df1.ParentEdu==\"Primary\") & (df1.Tutoring==\"Yes\")].Score.describe().to_dict()\n",
    "v3=df1[(df1.Region==\"Rural\") & (df1.ParentEdu==\"Secondary\") & (df1.Tutoring==\"Yes\")].Score.describe().to_dict()\n",
    "v4=df1[(df1.Region==\"Urban\") & (df1.ParentEdu==\"Secondary\") & (df1.Tutoring==\"Yes\")].Score.describe().to_dict()\n",
    "v5=df1[(df1.Region==\"Rural\") & (df1.ParentEdu==\"Tertiary\") & (df1.Tutoring==\"Yes\")].Score.describe().to_dict()\n",
    "v6=df1[(df1.Region==\"Urban\") & (df1.ParentEdu==\"Tertiary\") & (df1.Tutoring==\"Yes\")].Score.describe().to_dict()\n",
    "\n",
    "print(f\"Rural Primary Yes{v1} \\nUrban Primary Yes{v2}\\nRural Secondary Yes{v3}\\nUrban Secondary Yes{v4}\\nRural Tertiary Yes{v5}\\nUrban Tertiary Yes{v6}\")"
   ]
  },
  {
   "cell_type": "markdown",
   "id": "0dbcd21d",
   "metadata": {},
   "source": [
    "## **4. Modeling**"
   ]
  },
  {
   "cell_type": "code",
   "execution_count": 187,
   "id": "12ee6bfb",
   "metadata": {},
   "outputs": [
    {
     "data": {
      "text/plain": [
       "Index(['Sex', 'HoursPerWeekStudy', 'Tutoring', 'Region', 'Attendance',\n",
       "       'ParentEdu', 'Score'],\n",
       "      dtype='object')"
      ]
     },
     "execution_count": 187,
     "metadata": {},
     "output_type": "execute_result"
    }
   ],
   "source": [
    "df1.columns  # for (my) reference, do not get me wrong this is NOT for you.."
   ]
  },
  {
   "cell_type": "markdown",
   "id": "fa7826c4",
   "metadata": {},
   "source": [
    "Since models only work with numerical values, we might as well convert the entire dataset into numbers. It doesn't really matter what, as the relative structure is maintained between observations. "
   ]
  },
  {
   "cell_type": "code",
   "execution_count": null,
   "id": "0a875744",
   "metadata": {},
   "outputs": [],
   "source": [
    "dfMother = df1  # fork df1"
   ]
  },
  {
   "cell_type": "code",
   "execution_count": null,
   "id": "4547ade3",
   "metadata": {},
   "outputs": [
    {
     "data": {
      "application/vnd.microsoft.datawrangler.viewer.v0+json": {
       "columns": [
        {
         "name": "index",
         "rawType": "int64",
         "type": "integer"
        },
        {
         "name": "Sex",
         "rawType": "int64",
         "type": "integer"
        },
        {
         "name": "HoursPerWeekStudy",
         "rawType": "float64",
         "type": "float"
        },
        {
         "name": "Tutoring",
         "rawType": "int64",
         "type": "integer"
        },
        {
         "name": "Region",
         "rawType": "int64",
         "type": "integer"
        },
        {
         "name": "Attendance",
         "rawType": "float64",
         "type": "float"
        },
        {
         "name": "ParentEdu",
         "rawType": "int64",
         "type": "integer"
        },
        {
         "name": "Score",
         "rawType": "float64",
         "type": "float"
        }
       ],
       "ref": "0b6ad094-b939-428d-82bf-f742916adabb",
       "rows": [
        [
         "0",
         "0",
         "5.5",
         "0",
         "1",
         "0.727",
         "2",
         "0.435"
        ],
        [
         "1",
         "1",
         "6.8",
         "0",
         "1",
         "0.62",
         "0",
         "0.517"
        ],
        [
         "2",
         "1",
         "9.7",
         "0",
         "0",
         "0.95",
         "1",
         "0.701"
        ],
        [
         "5",
         "1",
         "7.9",
         "0",
         "1",
         "0.737",
         "2",
         "0.588"
        ],
        [
         "6",
         "1",
         "7.6",
         "0",
         "1",
         "0.795",
         "1",
         "0.648"
        ],
        [
         "7",
         "1",
         "12.3",
         "1",
         "1",
         "0.9840000000000001",
         "1",
         "1.0"
        ],
        [
         "8",
         "1",
         "10.6",
         "1",
         "0",
         "0.723",
         "0",
         "0.878"
        ],
        [
         "9",
         "1",
         "9.9",
         "0",
         "0",
         "0.732",
         "2",
         "0.67"
        ],
        [
         "10",
         "1",
         "3.9",
         "0",
         "1",
         "0.897",
         "2",
         "0.488"
        ],
        [
         "12",
         "0",
         "14.0",
         "1",
         "0",
         "0.8909999999999999",
         "2",
         "1.0"
        ],
        [
         "13",
         "1",
         "9.1",
         "1",
         "0",
         "0.62",
         "0",
         "0.758"
        ],
        [
         "14",
         "0",
         "15.3",
         "1",
         "1",
         "0.772",
         "2",
         "1.0"
        ],
        [
         "15",
         "0",
         "10.6",
         "1",
         "0",
         "0.769",
         "1",
         "0.7240000000000001"
        ],
        [
         "16",
         "0",
         "9.1",
         "0",
         "0",
         "0.785",
         "1",
         "0.564"
        ],
        [
         "18",
         "0",
         "7.1",
         "0",
         "0",
         "0.6970000000000001",
         "2",
         "0.426"
        ],
        [
         "19",
         "1",
         "9.0",
         "0",
         "1",
         "0.615",
         "1",
         "0.608"
        ],
        [
         "20",
         "0",
         "11.8",
         "1",
         "1",
         "0.7440000000000001",
         "1",
         "0.823"
        ],
        [
         "21",
         "1",
         "9.7",
         "1",
         "1",
         "0.589",
         "2",
         "0.759"
        ],
        [
         "22",
         "1",
         "5.1",
         "0",
         "1",
         "0.504",
         "0",
         "0.42700000000000005"
        ],
        [
         "23",
         "0",
         "5.4",
         "0",
         "0",
         "0.501",
         "2",
         "0.348"
        ],
        [
         "24",
         "0",
         "13.9",
         "0",
         "1",
         "0.7040000000000001",
         "1",
         "0.889"
        ],
        [
         "25",
         "1",
         "9.4",
         "0",
         "1",
         "0.7140000000000001",
         "2",
         "0.679"
        ],
        [
         "26",
         "1",
         "0.0",
         "1",
         "1",
         "0.608",
         "2",
         "0.441"
        ],
        [
         "27",
         "1",
         "14.1",
         "1",
         "0",
         "0.7979999999999999",
         "1",
         "0.895"
        ],
        [
         "30",
         "1",
         "15.4",
         "0",
         "1",
         "0.995",
         "2",
         "0.94"
        ],
        [
         "31",
         "0",
         "4.8",
         "0",
         "1",
         "0.9890000000000001",
         "1",
         "0.5720000000000001"
        ],
        [
         "32",
         "1",
         "11.3",
         "1",
         "1",
         "0.872",
         "1",
         "0.91"
        ],
        [
         "33",
         "0",
         "7.4",
         "1",
         "1",
         "0.606",
         "2",
         "0.701"
        ],
        [
         "34",
         "1",
         "16.0",
         "0",
         "1",
         "0.924",
         "1",
         "1.0"
        ],
        [
         "35",
         "1",
         "10.7",
         "0",
         "1",
         "0.8059999999999999",
         "2",
         "0.746"
        ],
        [
         "37",
         "1",
         "2.7",
         "0",
         "0",
         "0.792",
         "0",
         "0.385"
        ],
        [
         "38",
         "1",
         "6.3",
         "0",
         "0",
         "0.716",
         "2",
         "0.527"
        ],
        [
         "39",
         "0",
         "6.2",
         "0",
         "1",
         "0.708",
         "2",
         "0.546"
        ],
        [
         "40",
         "0",
         "6.3",
         "0",
         "0",
         "0.982",
         "2",
         "0.564"
        ],
        [
         "41",
         "1",
         "12.6",
         "1",
         "1",
         "0.9590000000000001",
         "1",
         "0.9390000000000001"
        ],
        [
         "42",
         "0",
         "10.4",
         "0",
         "1",
         "0.9990000000000001",
         "2",
         "0.7709999999999999"
        ],
        [
         "43",
         "1",
         "14.9",
         "0",
         "0",
         "0.845",
         "2",
         "0.927"
        ],
        [
         "44",
         "1",
         "9.1",
         "1",
         "1",
         "0.8490000000000001",
         "1",
         "0.872"
        ],
        [
         "45",
         "1",
         "9.0",
         "0",
         "1",
         "0.9690000000000001",
         "0",
         "0.6809999999999999"
        ],
        [
         "47",
         "1",
         "7.9",
         "1",
         "0",
         "0.711",
         "2",
         "0.752"
        ],
        [
         "48",
         "0",
         "10.7",
         "0",
         "1",
         "0.57",
         "0",
         "0.639"
        ],
        [
         "49",
         "1",
         "12.8",
         "1",
         "1",
         "0.5",
         "1",
         "0.915"
        ],
        [
         "50",
         "0",
         "10.9",
         "0",
         "1",
         "0.5870000000000001",
         "1",
         "0.6659999999999999"
        ],
        [
         "51",
         "1",
         "11.8",
         "1",
         "0",
         "0.78",
         "1",
         "0.857"
        ],
        [
         "52",
         "1",
         "7.6",
         "0",
         "0",
         "0.966",
         "2",
         "0.652"
        ],
        [
         "53",
         "1",
         "6.8",
         "1",
         "1",
         "0.524",
         "1",
         "0.706"
        ],
        [
         "54",
         "1",
         "7.7",
         "0",
         "0",
         "0.932",
         "2",
         "0.645"
        ],
        [
         "55",
         "0",
         "2.7",
         "1",
         "0",
         "0.556",
         "2",
         "0.465"
        ],
        [
         "56",
         "1",
         "8.2",
         "1",
         "1",
         "0.615",
         "0",
         "0.667"
        ],
        [
         "57",
         "0",
         "8.2",
         "0",
         "0",
         "0.65",
         "1",
         "0.525"
        ]
       ],
       "shape": {
        "columns": 7,
        "rows": 3578
       }
      },
      "text/html": [
       "<div>\n",
       "<style scoped>\n",
       "    .dataframe tbody tr th:only-of-type {\n",
       "        vertical-align: middle;\n",
       "    }\n",
       "\n",
       "    .dataframe tbody tr th {\n",
       "        vertical-align: top;\n",
       "    }\n",
       "\n",
       "    .dataframe thead th {\n",
       "        text-align: right;\n",
       "    }\n",
       "</style>\n",
       "<table border=\"1\" class=\"dataframe\">\n",
       "  <thead>\n",
       "    <tr style=\"text-align: right;\">\n",
       "      <th></th>\n",
       "      <th>Sex</th>\n",
       "      <th>HoursPerWeekStudy</th>\n",
       "      <th>Tutoring</th>\n",
       "      <th>Region</th>\n",
       "      <th>Attendance</th>\n",
       "      <th>ParentEdu</th>\n",
       "      <th>Score</th>\n",
       "    </tr>\n",
       "  </thead>\n",
       "  <tbody>\n",
       "    <tr>\n",
       "      <th>0</th>\n",
       "      <td>0</td>\n",
       "      <td>5.5</td>\n",
       "      <td>0</td>\n",
       "      <td>1</td>\n",
       "      <td>0.727</td>\n",
       "      <td>2</td>\n",
       "      <td>0.435</td>\n",
       "    </tr>\n",
       "    <tr>\n",
       "      <th>1</th>\n",
       "      <td>1</td>\n",
       "      <td>6.8</td>\n",
       "      <td>0</td>\n",
       "      <td>1</td>\n",
       "      <td>0.620</td>\n",
       "      <td>0</td>\n",
       "      <td>0.517</td>\n",
       "    </tr>\n",
       "    <tr>\n",
       "      <th>2</th>\n",
       "      <td>1</td>\n",
       "      <td>9.7</td>\n",
       "      <td>0</td>\n",
       "      <td>0</td>\n",
       "      <td>0.950</td>\n",
       "      <td>1</td>\n",
       "      <td>0.701</td>\n",
       "    </tr>\n",
       "    <tr>\n",
       "      <th>5</th>\n",
       "      <td>1</td>\n",
       "      <td>7.9</td>\n",
       "      <td>0</td>\n",
       "      <td>1</td>\n",
       "      <td>0.737</td>\n",
       "      <td>2</td>\n",
       "      <td>0.588</td>\n",
       "    </tr>\n",
       "    <tr>\n",
       "      <th>6</th>\n",
       "      <td>1</td>\n",
       "      <td>7.6</td>\n",
       "      <td>0</td>\n",
       "      <td>1</td>\n",
       "      <td>0.795</td>\n",
       "      <td>1</td>\n",
       "      <td>0.648</td>\n",
       "    </tr>\n",
       "    <tr>\n",
       "      <th>...</th>\n",
       "      <td>...</td>\n",
       "      <td>...</td>\n",
       "      <td>...</td>\n",
       "      <td>...</td>\n",
       "      <td>...</td>\n",
       "      <td>...</td>\n",
       "      <td>...</td>\n",
       "    </tr>\n",
       "    <tr>\n",
       "      <th>3995</th>\n",
       "      <td>0</td>\n",
       "      <td>11.3</td>\n",
       "      <td>1</td>\n",
       "      <td>1</td>\n",
       "      <td>0.795</td>\n",
       "      <td>1</td>\n",
       "      <td>0.935</td>\n",
       "    </tr>\n",
       "    <tr>\n",
       "      <th>3996</th>\n",
       "      <td>0</td>\n",
       "      <td>3.7</td>\n",
       "      <td>1</td>\n",
       "      <td>1</td>\n",
       "      <td>0.507</td>\n",
       "      <td>2</td>\n",
       "      <td>0.538</td>\n",
       "    </tr>\n",
       "    <tr>\n",
       "      <th>3997</th>\n",
       "      <td>1</td>\n",
       "      <td>0.0</td>\n",
       "      <td>0</td>\n",
       "      <td>0</td>\n",
       "      <td>0.727</td>\n",
       "      <td>2</td>\n",
       "      <td>0.254</td>\n",
       "    </tr>\n",
       "    <tr>\n",
       "      <th>3998</th>\n",
       "      <td>0</td>\n",
       "      <td>4.0</td>\n",
       "      <td>0</td>\n",
       "      <td>1</td>\n",
       "      <td>0.622</td>\n",
       "      <td>2</td>\n",
       "      <td>0.403</td>\n",
       "    </tr>\n",
       "    <tr>\n",
       "      <th>3999</th>\n",
       "      <td>0</td>\n",
       "      <td>7.8</td>\n",
       "      <td>0</td>\n",
       "      <td>0</td>\n",
       "      <td>0.796</td>\n",
       "      <td>0</td>\n",
       "      <td>0.620</td>\n",
       "    </tr>\n",
       "  </tbody>\n",
       "</table>\n",
       "<p>3578 rows × 7 columns</p>\n",
       "</div>"
      ],
      "text/plain": [
       "      Sex  HoursPerWeekStudy  Tutoring  Region  Attendance  ParentEdu  Score\n",
       "0       0                5.5         0       1       0.727          2  0.435\n",
       "1       1                6.8         0       1       0.620          0  0.517\n",
       "2       1                9.7         0       0       0.950          1  0.701\n",
       "5       1                7.9         0       1       0.737          2  0.588\n",
       "6       1                7.6         0       1       0.795          1  0.648\n",
       "...   ...                ...       ...     ...         ...        ...    ...\n",
       "3995    0               11.3         1       1       0.795          1  0.935\n",
       "3996    0                3.7         1       1       0.507          2  0.538\n",
       "3997    1                0.0         0       0       0.727          2  0.254\n",
       "3998    0                4.0         0       1       0.622          2  0.403\n",
       "3999    0                7.8         0       0       0.796          0  0.620\n",
       "\n",
       "[3578 rows x 7 columns]"
      ]
     },
     "execution_count": 188,
     "metadata": {},
     "output_type": "execute_result"
    }
   ],
   "source": [
    "df1[\"Sex\"] = df1.Sex.apply(lambda x: 0 if x==\"Male\" else 1)  # Males = 0, Females = 1\n",
    "df1[\"Tutoring\"] = df1.Tutoring.apply(lambda y: 0 if y==\"No\" else 1)  # No TUT = 0, Yes TUT = 1\n",
    "df1[\"Region\"] = df1.Region.apply(lambda z: 0 if z==\"Rural\" else 1)  # Rural = 0, Urban = 1\n",
    "df1[\"Attendance\"] = df1.Attendance.apply(lambda normalize: normalize/100);  # Turns Attendance from %age into 0 to 1 scale\n",
    "key1 = {\"Primary\":0, \"Secondary\":1, \"Tertiary\":2};  df1[\"ParentEdu\"] = df1[\"ParentEdu\"].map(key1)  # 0 = Primary, 1 = Secondary, 2 = Tertiary\n",
    "df1[\"Score\"] = df1.Score.apply(lambda normalize: normalize/100); df1  # Same as Attendance\n"
   ]
  },
  {
   "cell_type": "code",
   "execution_count": 214,
   "id": "5de466e7",
   "metadata": {},
   "outputs": [],
   "source": [
    "X = df1[[\"Sex\", \"HoursPerWeekStudy\", \"Tutoring\", \"Region\", \"Attendance\", \"ParentEdu\"]]\n",
    "y = df1[\"Score\"]\n",
    "X_train, X_test, y_train, y_test = train_test_split(X, y, test_size=0.25, random_state=1728) "
   ]
  },
  {
   "cell_type": "markdown",
   "id": "6cf9c151",
   "metadata": {},
   "source": [
    "After setting up the dataset and doing the TTS (test=25%) for X and y, we are ready to initialize and fit our models. For the sake of simplicity, I have done one model using linear regression, and one with logistic regression. Usually with simpler datasets like the one I'm using, a simpler model will more than suffice. From my experience, using too complex of a model on a simple dataset wastes time and compute, all to end up with the linear regression model doing better with absoletely zero optimization. \n",
    "\n",
    "For this case, this may be true. Linear regression does relatively well, as 0.91 is decent for a model. However, note that this is not accuracy, this is the correlation coefficient. Still, a value of 0.91 suggests that a linear regression line of best fit would do a good job of predicting a general estimate for a student's score on the Selectividad. "
   ]
  },
  {
   "cell_type": "code",
   "execution_count": 212,
   "id": "64d3fa85",
   "metadata": {},
   "outputs": [
    {
     "name": "stdout",
     "output_type": "stream",
     "text": [
      "r2:0.910695752483676, mse:0.0025096379277845327\n"
     ]
    }
   ],
   "source": [
    "model = LinearRegression()\n",
    "model.fit(X_train, y_train)\n",
    "y_predict = model.predict(X_test)\n",
    "\n",
    "r2 = r2_score(y_test, y_predict)\n",
    "mse = mean_squared_error(y_test, y_predict)\n",
    "\n",
    "print(f\"r2:{r2}, mse:{mse}\")"
   ]
  },
  {
   "cell_type": "code",
   "execution_count": 234,
   "id": "d5992b08",
   "metadata": {},
   "outputs": [
    {
     "name": "stdout",
     "output_type": "stream",
     "text": [
      "r2:0.8962868358819116, mse:0.0029145589097956297\n"
     ]
    }
   ],
   "source": [
    "nodel = RandomForestRegressor(n_estimators=50, random_state=42)\n",
    "nodel.fit(X_train, y_train)\n",
    "y_predict_nodel = nodel.predict(X_test)\n",
    "\n",
    "r2_nod = r2_score(y_test, y_predict_nodel)\n",
    "mse_nod = mean_squared_error(y_test, y_predict_nodel)\n",
    "\n",
    "print(f\"r2:{r2_nod}, mse:{mse_nod}\")"
   ]
  },
  {
   "cell_type": "markdown",
   "id": "b689427a",
   "metadata": {},
   "source": [
    "## **5. Findings & Conclusion**"
   ]
  },
  {
   "cell_type": "markdown",
   "id": "ea5961ad",
   "metadata": {},
   "source": [
    "Through our EDA, we have discovered that factors like the highest level of education attained by a student's parents, the urban/rural status of where a student lives, and whether a given student is being tutored or not, are correlated with substantial differences in Selectividad test scores. \n",
    "\n",
    "By training a linear regression model and analyzing the coefficients for each term in the equation, we find that the Attendance and Tutoring fields have the largest effect in the linear regression model, which mostly lines up with what we observed during EDA. "
   ]
  },
  {
   "cell_type": "code",
   "execution_count": 235,
   "id": "82940d5c",
   "metadata": {},
   "outputs": [
    {
     "name": "stdout",
     "output_type": "stream",
     "text": [
      "Sex: 0.02040947943260638\n",
      "HoursPerWeekStudy: 0.036788887820701846\n",
      "Tutoring: 0.1445139304398465\n",
      "Region: 0.031912657887233506\n",
      "Attendance: 0.28178847075637303\n",
      "ParentEdu: 0.018235155721749653\n"
     ]
    }
   ],
   "source": [
    "for name, coef in zip(X.columns, model.coef_):\n",
    "    print(f\"{name}: {coef}\")"
   ]
  },
  {
   "cell_type": "markdown",
   "id": "21ab4534",
   "metadata": {},
   "source": [
    "Since Attendance and Tutoring are much better predictors on whether a student does well or not compared to variables like Sex or Parental Education, we should push for school districts and governments to fight for funds. These funds should be allocated to peer tutoring programs or in the best case, hiring \"professionals\" as tutors. Additionally, there should be much more attention paid into how to increase attendance rates. Unfortunately, we cannot eliminate disease as a reason for skipping, but if a student simply decides not to show up for no reason, this can be avoided. \n",
    "\n",
    "At the end of the day, while the job of a school and teachers is to put math, science, english, etc. into the brains of the next generation, it's ultimately up to the students to open their minds up. But yet again, different students have different interests, which is why schools need increased funding from the government or literally anyone who can provide, so that schools can open a wide variety of high quality programs. If a student shows an apptitude for music yet is forced into track and field, it's like putting a saltwater fish into freshwater. With more programs, an art student CAN become an artist, and a STEM student CAN become an engineer or chemist, and neither is forced into something they are not, which ultimately also will drive attendance, and therefore test scores in the Selectividad. "
   ]
  },
  {
   "cell_type": "markdown",
   "id": "00a4fa37",
   "metadata": {},
   "source": [
    "## **Z. Bibliography**"
   ]
  },
  {
   "cell_type": "markdown",
   "id": "4617138c",
   "metadata": {},
   "source": [
    "**Mateo, J. (2025). Student Academic Performance 4000 [Dataset]. In *Kaggle*. Retrieved June 16, 2025, from https://www.kaggle.com/datasets/firedmosquito831/student-academic-performance-simulation-4000**"
   ]
  },
  {
   "cell_type": "markdown",
   "id": "0d53edf3",
   "metadata": {},
   "source": [
    "## **ZZ. Peer Feedback**"
   ]
  },
  {
   "cell_type": "markdown",
   "id": "e5a6b0da",
   "metadata": {},
   "source": [
    "*From Aditi Dixit*\n",
    "\n",
    "*The chosen dataset of test scores in Spain and a variety of demographic information is interesting and I’m curious to see what you will find with further analysis. The code works so far, as long as the csv file is downloaded previously onto the computer of whoever is running the program. \n",
    "One area of improvement might be being more clear about who your audience is; like if it is parents trying to figure out how they can help their kids test scores, or teachers, or even students. Another area could be working on what the audience should do with the information. For example, if you find that students from a certain area have better scores, are you going to encourage people to move there or to look into the school and see what they may be doing differently? I think your planned outline structure is good, and covers everything you will need from the Intro, to EDA, to methodology ,etc. I would also recommend having the argument clearly stated before the data analysis as well, so it can be in the Introduction section, and then this is proven by the data through your analysis.*"
   ]
  }
 ],
 "metadata": {
  "kernelspec": {
   "display_name": "Python 3",
   "language": "python",
   "name": "python3"
  },
  "language_info": {
   "codemirror_mode": {
    "name": "ipython",
    "version": 3
   },
   "file_extension": ".py",
   "mimetype": "text/x-python",
   "name": "python",
   "nbconvert_exporter": "python",
   "pygments_lexer": "ipython3",
   "version": "3.9.6"
  }
 },
 "nbformat": 4,
 "nbformat_minor": 5
}
