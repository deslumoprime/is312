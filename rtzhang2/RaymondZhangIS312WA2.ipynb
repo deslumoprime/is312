{
 "cells": [
  {
   "cell_type": "markdown",
   "id": "52c8c4db",
   "metadata": {},
   "source": [
    "# **WA2 — Studying Studying: Is There A Recipe For High Marks in School?**"
   ]
  },
  {
   "cell_type": "markdown",
   "id": "fa771112",
   "metadata": {},
   "source": [
    "## **0.a Imports for Required Libraries**"
   ]
  },
  {
   "cell_type": "code",
   "execution_count": 10,
   "id": "9d90a0a1",
   "metadata": {},
   "outputs": [],
   "source": [
    "import pandas as pd\n",
    "import numpy as np\n",
    "import matplotlib.pyplot as plt\n",
    "import scipy"
   ]
  },
  {
   "cell_type": "markdown",
   "id": "d0c3dc64",
   "metadata": {},
   "source": [
    "## **0.b Dataset Onboarding & Basic Renaming for Better Readability + Referenceability**"
   ]
  },
  {
   "cell_type": "code",
   "execution_count": 47,
   "id": "0b4a909a",
   "metadata": {},
   "outputs": [
    {
     "data": {
      "application/vnd.microsoft.datawrangler.viewer.v0+json": {
       "columns": [
        {
         "name": "index",
         "rawType": "int64",
         "type": "integer"
        },
        {
         "name": "Sex",
         "rawType": "object",
         "type": "string"
        },
        {
         "name": "HoursPerWeekStudy",
         "rawType": "float64",
         "type": "float"
        },
        {
         "name": "Tutoring",
         "rawType": "object",
         "type": "string"
        },
        {
         "name": "Region",
         "rawType": "object",
         "type": "string"
        },
        {
         "name": "Attendance",
         "rawType": "float64",
         "type": "float"
        },
        {
         "name": "ParentEdu",
         "rawType": "object",
         "type": "string"
        },
        {
         "name": "Score",
         "rawType": "float64",
         "type": "float"
        }
       ],
       "ref": "62ca48a4-640b-40a2-b45e-b4ef791cc630",
       "rows": [
        [
         "0",
         "Male",
         "5.5",
         "No",
         "Urban",
         "72.7",
         "Tertiary",
         "43.5"
        ],
        [
         "1",
         "Female",
         "6.8",
         "No",
         "Urban",
         "62.0",
         "Primary",
         "51.7"
        ],
        [
         "2",
         "Female",
         "9.7",
         "No",
         "Rural",
         "95.0",
         "Secondary",
         "70.1"
        ],
        [
         "5",
         "Female",
         "7.9",
         "No",
         "Urban",
         "73.7",
         "Tertiary",
         "58.8"
        ],
        [
         "6",
         "Female",
         "7.6",
         "No",
         "Urban",
         "79.5",
         "Secondary",
         "64.8"
        ],
        [
         "7",
         "Female",
         "12.3",
         "Yes",
         "Urban",
         "98.4",
         "Secondary",
         "100.0"
        ],
        [
         "8",
         "Female",
         "10.6",
         "Yes",
         "Rural",
         "72.3",
         "Primary",
         "87.8"
        ],
        [
         "9",
         "Female",
         "9.9",
         "No",
         "Rural",
         "73.2",
         "Tertiary",
         "67.0"
        ],
        [
         "10",
         "Female",
         "3.9",
         "No",
         "Urban",
         "89.7",
         "Tertiary",
         "48.8"
        ],
        [
         "12",
         "Male",
         "14.0",
         "Yes",
         "Rural",
         "89.1",
         "Tertiary",
         "100.0"
        ],
        [
         "13",
         "Female",
         "9.1",
         "Yes",
         "Rural",
         "62.0",
         "Primary",
         "75.8"
        ],
        [
         "14",
         "Male",
         "15.3",
         "Yes",
         "Urban",
         "77.2",
         "Tertiary",
         "100.0"
        ],
        [
         "15",
         "Male",
         "10.6",
         "Yes",
         "Rural",
         "76.9",
         "Secondary",
         "72.4"
        ],
        [
         "16",
         "Male",
         "9.1",
         "No",
         "Rural",
         "78.5",
         "Secondary",
         "56.4"
        ],
        [
         "18",
         "Male",
         "7.1",
         "No",
         "Rural",
         "69.7",
         "Tertiary",
         "42.6"
        ],
        [
         "19",
         "Female",
         "9.0",
         "No",
         "Urban",
         "61.5",
         "Secondary",
         "60.8"
        ],
        [
         "20",
         "Male",
         "11.8",
         "Yes",
         "Urban",
         "74.4",
         "Secondary",
         "82.3"
        ],
        [
         "21",
         "Female",
         "9.7",
         "Yes",
         "Urban",
         "58.9",
         "Tertiary",
         "75.9"
        ],
        [
         "22",
         "Female",
         "5.1",
         "No",
         "Urban",
         "50.4",
         "Primary",
         "42.7"
        ],
        [
         "23",
         "Male",
         "5.4",
         "No",
         "Rural",
         "50.1",
         "Tertiary",
         "34.8"
        ],
        [
         "24",
         "Male",
         "13.9",
         "No",
         "Urban",
         "70.4",
         "Secondary",
         "88.9"
        ],
        [
         "25",
         "Female",
         "9.4",
         "No",
         "Urban",
         "71.4",
         "Tertiary",
         "67.9"
        ],
        [
         "26",
         "Female",
         "0.0",
         "Yes",
         "Urban",
         "60.8",
         "Tertiary",
         "44.1"
        ],
        [
         "27",
         "Female",
         "14.1",
         "Yes",
         "Rural",
         "79.8",
         "Secondary",
         "89.5"
        ],
        [
         "30",
         "Female",
         "15.4",
         "No",
         "Urban",
         "99.5",
         "Tertiary",
         "94.0"
        ],
        [
         "31",
         "Male",
         "4.8",
         "No",
         "Urban",
         "98.9",
         "Secondary",
         "57.2"
        ],
        [
         "32",
         "Female",
         "11.3",
         "Yes",
         "Urban",
         "87.2",
         "Secondary",
         "91.0"
        ],
        [
         "33",
         "Male",
         "7.4",
         "Yes",
         "Urban",
         "60.6",
         "Tertiary",
         "70.1"
        ],
        [
         "34",
         "Female",
         "16.0",
         "No",
         "Urban",
         "92.4",
         "Secondary",
         "100.0"
        ],
        [
         "35",
         "Female",
         "10.7",
         "No",
         "Urban",
         "80.6",
         "Tertiary",
         "74.6"
        ],
        [
         "37",
         "Female",
         "2.7",
         "No",
         "Rural",
         "79.2",
         "Primary",
         "38.5"
        ],
        [
         "38",
         "Female",
         "6.3",
         "No",
         "Rural",
         "71.6",
         "Tertiary",
         "52.7"
        ],
        [
         "39",
         "Male",
         "6.2",
         "No",
         "Urban",
         "70.8",
         "Tertiary",
         "54.6"
        ],
        [
         "40",
         "Male",
         "6.3",
         "No",
         "Rural",
         "98.2",
         "Tertiary",
         "56.4"
        ],
        [
         "41",
         "Female",
         "12.6",
         "Yes",
         "Urban",
         "95.9",
         "Secondary",
         "93.9"
        ],
        [
         "42",
         "Male",
         "10.4",
         "No",
         "Urban",
         "99.9",
         "Tertiary",
         "77.1"
        ],
        [
         "43",
         "Female",
         "14.9",
         "No",
         "Rural",
         "84.5",
         "Tertiary",
         "92.7"
        ],
        [
         "44",
         "Female",
         "9.1",
         "Yes",
         "Urban",
         "84.9",
         "Secondary",
         "87.2"
        ],
        [
         "45",
         "Female",
         "9.0",
         "No",
         "Urban",
         "96.9",
         "Primary",
         "68.1"
        ],
        [
         "47",
         "Female",
         "7.9",
         "Yes",
         "Rural",
         "71.1",
         "Tertiary",
         "75.2"
        ],
        [
         "48",
         "Male",
         "10.7",
         "No",
         "Urban",
         "57.0",
         "Primary",
         "63.9"
        ],
        [
         "49",
         "Female",
         "12.8",
         "Yes",
         "Urban",
         "50.0",
         "Secondary",
         "91.5"
        ],
        [
         "50",
         "Male",
         "10.9",
         "No",
         "Urban",
         "58.7",
         "Secondary",
         "66.6"
        ],
        [
         "51",
         "Female",
         "11.8",
         "Yes",
         "Rural",
         "78.0",
         "Secondary",
         "85.7"
        ],
        [
         "52",
         "Female",
         "7.6",
         "No",
         "Rural",
         "96.6",
         "Tertiary",
         "65.2"
        ],
        [
         "53",
         "Female",
         "6.8",
         "Yes",
         "Urban",
         "52.4",
         "Secondary",
         "70.6"
        ],
        [
         "54",
         "Female",
         "7.7",
         "No",
         "Rural",
         "93.2",
         "Tertiary",
         "64.5"
        ],
        [
         "55",
         "Male",
         "2.7",
         "Yes",
         "Rural",
         "55.6",
         "Tertiary",
         "46.5"
        ],
        [
         "56",
         "Female",
         "8.2",
         "Yes",
         "Urban",
         "61.5",
         "Primary",
         "66.7"
        ],
        [
         "57",
         "Male",
         "8.2",
         "No",
         "Rural",
         "65.0",
         "Secondary",
         "52.5"
        ]
       ],
       "shape": {
        "columns": 7,
        "rows": 3578
       }
      },
      "text/html": [
       "<div>\n",
       "<style scoped>\n",
       "    .dataframe tbody tr th:only-of-type {\n",
       "        vertical-align: middle;\n",
       "    }\n",
       "\n",
       "    .dataframe tbody tr th {\n",
       "        vertical-align: top;\n",
       "    }\n",
       "\n",
       "    .dataframe thead th {\n",
       "        text-align: right;\n",
       "    }\n",
       "</style>\n",
       "<table border=\"1\" class=\"dataframe\">\n",
       "  <thead>\n",
       "    <tr style=\"text-align: right;\">\n",
       "      <th></th>\n",
       "      <th>Sex</th>\n",
       "      <th>HoursPerWeekStudy</th>\n",
       "      <th>Tutoring</th>\n",
       "      <th>Region</th>\n",
       "      <th>Attendance</th>\n",
       "      <th>ParentEdu</th>\n",
       "      <th>Score</th>\n",
       "    </tr>\n",
       "  </thead>\n",
       "  <tbody>\n",
       "    <tr>\n",
       "      <th>0</th>\n",
       "      <td>Male</td>\n",
       "      <td>5.5</td>\n",
       "      <td>No</td>\n",
       "      <td>Urban</td>\n",
       "      <td>72.7</td>\n",
       "      <td>Tertiary</td>\n",
       "      <td>43.5</td>\n",
       "    </tr>\n",
       "    <tr>\n",
       "      <th>1</th>\n",
       "      <td>Female</td>\n",
       "      <td>6.8</td>\n",
       "      <td>No</td>\n",
       "      <td>Urban</td>\n",
       "      <td>62.0</td>\n",
       "      <td>Primary</td>\n",
       "      <td>51.7</td>\n",
       "    </tr>\n",
       "    <tr>\n",
       "      <th>2</th>\n",
       "      <td>Female</td>\n",
       "      <td>9.7</td>\n",
       "      <td>No</td>\n",
       "      <td>Rural</td>\n",
       "      <td>95.0</td>\n",
       "      <td>Secondary</td>\n",
       "      <td>70.1</td>\n",
       "    </tr>\n",
       "    <tr>\n",
       "      <th>5</th>\n",
       "      <td>Female</td>\n",
       "      <td>7.9</td>\n",
       "      <td>No</td>\n",
       "      <td>Urban</td>\n",
       "      <td>73.7</td>\n",
       "      <td>Tertiary</td>\n",
       "      <td>58.8</td>\n",
       "    </tr>\n",
       "    <tr>\n",
       "      <th>6</th>\n",
       "      <td>Female</td>\n",
       "      <td>7.6</td>\n",
       "      <td>No</td>\n",
       "      <td>Urban</td>\n",
       "      <td>79.5</td>\n",
       "      <td>Secondary</td>\n",
       "      <td>64.8</td>\n",
       "    </tr>\n",
       "    <tr>\n",
       "      <th>...</th>\n",
       "      <td>...</td>\n",
       "      <td>...</td>\n",
       "      <td>...</td>\n",
       "      <td>...</td>\n",
       "      <td>...</td>\n",
       "      <td>...</td>\n",
       "      <td>...</td>\n",
       "    </tr>\n",
       "    <tr>\n",
       "      <th>3995</th>\n",
       "      <td>Male</td>\n",
       "      <td>11.3</td>\n",
       "      <td>Yes</td>\n",
       "      <td>Urban</td>\n",
       "      <td>79.5</td>\n",
       "      <td>Secondary</td>\n",
       "      <td>93.5</td>\n",
       "    </tr>\n",
       "    <tr>\n",
       "      <th>3996</th>\n",
       "      <td>Male</td>\n",
       "      <td>3.7</td>\n",
       "      <td>Yes</td>\n",
       "      <td>Urban</td>\n",
       "      <td>50.7</td>\n",
       "      <td>Tertiary</td>\n",
       "      <td>53.8</td>\n",
       "    </tr>\n",
       "    <tr>\n",
       "      <th>3997</th>\n",
       "      <td>Female</td>\n",
       "      <td>0.0</td>\n",
       "      <td>No</td>\n",
       "      <td>Rural</td>\n",
       "      <td>72.7</td>\n",
       "      <td>Tertiary</td>\n",
       "      <td>25.4</td>\n",
       "    </tr>\n",
       "    <tr>\n",
       "      <th>3998</th>\n",
       "      <td>Male</td>\n",
       "      <td>4.0</td>\n",
       "      <td>No</td>\n",
       "      <td>Urban</td>\n",
       "      <td>62.2</td>\n",
       "      <td>Tertiary</td>\n",
       "      <td>40.3</td>\n",
       "    </tr>\n",
       "    <tr>\n",
       "      <th>3999</th>\n",
       "      <td>Male</td>\n",
       "      <td>7.8</td>\n",
       "      <td>No</td>\n",
       "      <td>Rural</td>\n",
       "      <td>79.6</td>\n",
       "      <td>Primary</td>\n",
       "      <td>62.0</td>\n",
       "    </tr>\n",
       "  </tbody>\n",
       "</table>\n",
       "<p>3578 rows × 7 columns</p>\n",
       "</div>"
      ],
      "text/plain": [
       "         Sex  HoursPerWeekStudy Tutoring Region  Attendance  ParentEdu  Score\n",
       "0       Male                5.5       No  Urban        72.7   Tertiary   43.5\n",
       "1     Female                6.8       No  Urban        62.0    Primary   51.7\n",
       "2     Female                9.7       No  Rural        95.0  Secondary   70.1\n",
       "5     Female                7.9       No  Urban        73.7   Tertiary   58.8\n",
       "6     Female                7.6       No  Urban        79.5  Secondary   64.8\n",
       "...      ...                ...      ...    ...         ...        ...    ...\n",
       "3995    Male               11.3      Yes  Urban        79.5  Secondary   93.5\n",
       "3996    Male                3.7      Yes  Urban        50.7   Tertiary   53.8\n",
       "3997  Female                0.0       No  Rural        72.7   Tertiary   25.4\n",
       "3998    Male                4.0       No  Urban        62.2   Tertiary   40.3\n",
       "3999    Male                7.8       No  Rural        79.6    Primary   62.0\n",
       "\n",
       "[3578 rows x 7 columns]"
      ]
     },
     "execution_count": 47,
     "metadata": {},
     "output_type": "execute_result"
    }
   ],
   "source": [
    "df1 = pd.read_csv(\"SAP-4000.csv\")\n",
    "df1 = df1.rename(columns={\"Gender\":\"Sex\", \n",
    "                          \"HoursStudied/Week\":\"HoursPerWeekStudy\", \n",
    "                          \"Attendance(%)\":\"Attendance\", \n",
    "                          \"Exam_Score\":\"Score\", \n",
    "                          \"Parent Education\":\"ParentEdu\"})\n",
    "df1=df1.dropna(); df1"
   ]
  },
  {
   "cell_type": "markdown",
   "id": "a218a8ca",
   "metadata": {},
   "source": [
    "## **1. Introduction, About the Dataset, Intended Audience**"
   ]
  },
  {
   "cell_type": "markdown",
   "id": "bd55ef79",
   "metadata": {},
   "source": [
    "Academic examinations are employed by almost all educational programs across the world, and come in a variety of different configurations. These can range from a quick daily quiz on the previous lecture material to a cumulative marathon scantron encompassing a semester's worth of content. It's almost guaranteed that a test that a student takes in his lifetime will each be unique from all others from the past. \n",
    "\n",
    "However, for almost all tests, there is a general strategy for success that seems to be replicatable for basically everyone. If one was to go around and ask other students how they are able to succeed on tests, the advice would be relatively summed up by these three points:\n",
    "\n",
    "1) Learn new material. \n",
    "\n",
    "2) Review/relearn past material as you progress into newer material.\n",
    "\n",
    "3) Practice answering questions that emulate those from the test. \n",
    "\n",
    "It would make sense too — if we were to take a panel of top scorers from the AP Calculus BC exam from last year, it is sensible these students knew the material well, relearned/reviewed older material, and practiced MCQ and FRQ questions from past years. \n",
    "\n",
    "An exam called the Evaluación de Bachillerato para el Acceso a la Universidad (EBAU), which is also better known as the Selectividad, is a college-entrance exam and verification of completion of secondary school that is taken by students after finishing the equivalent of high school. A mark on the Selectividad can make or break a student's future in higher education, so doing well is vital. \n",
    "\n",
    "However, the general strategy drawn above can easily be disrupted. Here are some examples: \n",
    "\n",
    "1) John is a high school senior in Calculus. He transferred from a country that did not require anything above the equivalent of Algebra I to be taken. As such, the highest level of math John knows is Alg I. John subsequently cannot even complete 1) because he is unable to learn due to the fact that he lacks a foundation in mathematics. \n",
    "\n",
    "2) Ben is a classmate of John, also a senior, but has been attending school in the area since 1st grade. He has all the Precalc prereqs to learn new material, but the course materials and resources are online, and Ben does not have a computer at home, meaning his ability to review on his own time is limited to when he is at school or at the library / coffee shop. \n",
    "\n",
    "3) Peter is also a classmate of John and Ben. Senior, attending school in the area since 1st grade. While Peter is the most prepared of the three, he is unable to practice test questions because this year, the Calculus exam has been majorly revamped. Suddenly, all the questions are different enough that the last test's questions are inadequate. \n",
    "\n",
    "As such, it becomes apparent that being able to predict test scores from demographics could allow intervention during the learning process to hopefully improve scores in the future, rather than finding out later that students were struggling and recieving disappointing scores. \n",
    "\n",
    "This dataset was obtained from Kaggle.com's extensive supply of datasets, and contains 4,000 anonymized datapoints containing fields about a student's demographic information (Gender, HoursStudied/Week, Tutoring?, Urban/Rural, Attendance Rate, Highest Level of Parent Education) as well as respective student's mark on the Selectividad. While this dataset is pretty great, there were about 422 datapoints that were dropped because they were missing data in some fields. This can be considered a considerable portion of the original data that was trimmed away, and this is my disclaimer, if this trimming has any statistically significant impact on the findings. \n",
    "\n",
    "This project and literate programming document, methods, and its findings are targetted towards parents, educators, and governments. It should serve to inform and guide future actions, policies, and regulations in the common interest for a smarter and more capable next generation of minds. "
   ]
  },
  {
   "cell_type": "markdown",
   "id": "5a6c10f3",
   "metadata": {},
   "source": [
    "## **2. Placeholder**"
   ]
  },
  {
   "cell_type": "markdown",
   "id": "6e0fd78e",
   "metadata": {},
   "source": [
    "## **3. EDA**"
   ]
  },
  {
   "cell_type": "markdown",
   "id": "3a50fa94",
   "metadata": {},
   "source": [
    "This is a fun section because key insights about the data that can answer a lot of question can be revealed with speed and ease. "
   ]
  },
  {
   "cell_type": "markdown",
   "id": "afbd4a20",
   "metadata": {},
   "source": [
    "First, I simply want to look at the distribution of Rural vs Urban students. From the code, it becomes clear that Urban students outnumber Rural ones. There are multiple explanations for this:\n",
    "\n",
    "1) More adults live in cities than in rural areas, and assuming that the average number of children per couple is the same for both regions, Urban would have more students that go on to outnumber their rural counterparts in this dataset.\n",
    "\n",
    "2) Urban students are more likely to reach the point of taking the Selectividad than Rural ones. This metric would be based on percentage of Urban students who make it, and percentage of Rural students who make it, rather than raw counts. \n",
    "\n",
    "3) Urban couples have a higher average children per couple than Rural couples. \n",
    "\n",
    "There are likely more reasons, and the disparity between the two is likely a combination of all of the relevant factors. "
   ]
  },
  {
   "cell_type": "code",
   "execution_count": 19,
   "id": "df7c1c78",
   "metadata": {},
   "outputs": [
    {
     "data": {
      "application/vnd.microsoft.datawrangler.viewer.v0+json": {
       "columns": [
        {
         "name": "index",
         "rawType": "int64",
         "type": "integer"
        },
        {
         "name": "Region",
         "rawType": "object",
         "type": "string"
        },
        {
         "name": "Score",
         "rawType": "int64",
         "type": "integer"
        }
       ],
       "ref": "99fd8378-eb37-4a94-bc8d-9d7bece2fb4e",
       "rows": [
        [
         "0",
         "Rural",
         "1577"
        ],
        [
         "1",
         "Urban",
         "2423"
        ]
       ],
       "shape": {
        "columns": 2,
        "rows": 2
       }
      },
      "text/html": [
       "<div>\n",
       "<style scoped>\n",
       "    .dataframe tbody tr th:only-of-type {\n",
       "        vertical-align: middle;\n",
       "    }\n",
       "\n",
       "    .dataframe tbody tr th {\n",
       "        vertical-align: top;\n",
       "    }\n",
       "\n",
       "    .dataframe thead th {\n",
       "        text-align: right;\n",
       "    }\n",
       "</style>\n",
       "<table border=\"1\" class=\"dataframe\">\n",
       "  <thead>\n",
       "    <tr style=\"text-align: right;\">\n",
       "      <th></th>\n",
       "      <th>Region</th>\n",
       "      <th>Score</th>\n",
       "    </tr>\n",
       "  </thead>\n",
       "  <tbody>\n",
       "    <tr>\n",
       "      <th>0</th>\n",
       "      <td>Rural</td>\n",
       "      <td>1577</td>\n",
       "    </tr>\n",
       "    <tr>\n",
       "      <th>1</th>\n",
       "      <td>Urban</td>\n",
       "      <td>2423</td>\n",
       "    </tr>\n",
       "  </tbody>\n",
       "</table>\n",
       "</div>"
      ],
      "text/plain": [
       "  Region  Score\n",
       "0  Rural   1577\n",
       "1  Urban   2423"
      ]
     },
     "execution_count": 19,
     "metadata": {},
     "output_type": "execute_result"
    }
   ],
   "source": [
    "df1.groupby(\"Region\").agg(\"count\").reset_index()[[\"Region\", \"Score\"]]"
   ]
  },
  {
   "cell_type": "markdown",
   "id": "5415555e",
   "metadata": {},
   "source": [
    "Next we'll run some summary stats between things like Region, ParentEdu, etc. "
   ]
  },
  {
   "cell_type": "code",
   "execution_count": 69,
   "id": "0632662f",
   "metadata": {},
   "outputs": [
    {
     "name": "stdout",
     "output_type": "stream",
     "text": [
      "urbanPrimaryNotutScore {'count': 332.0, 'mean': 66.70481927710843, 'std': 15.27203200620862, 'min': 20.0, '25%': 55.7, '50%': 67.35, '75%': 78.45, 'max': 100.0} \n",
      "urbanSecondaryNotutScore {'count': 681.0, 'mean': 68.31424375917769, 'std': 16.00829802447762, 'min': 21.6, '25%': 57.2, '50%': 68.6, '75%': 80.4, 'max': 100.0} \n",
      "urbanTertiaryNotutScore {'count': 499.0, 'mean': 70.30981963927856, 'std': 15.893585751481439, 'min': 27.9, '25%': 59.4, '50%': 70.8, '75%': 82.05000000000001, 'max': 100.0}\n"
     ]
    }
   ],
   "source": [
    "# Urban, P/S/T, No Tutor\n",
    "\n",
    "urbanPrimaryNotutScore = df1[(df1.Region==\"Urban\") & (df1.ParentEdu==\"Primary\") & (df1.Tutoring==\"No\")].Score.describe().to_dict()\n",
    "urbanSecondaryNotutScore = df1[(df1.Region==\"Urban\") & (df1.ParentEdu==\"Secondary\") & (df1.Tutoring==\"No\")].Score.describe().to_dict()\n",
    "urbanTertiaryNotutScore = df1[(df1.Region==\"Urban\") & (df1.ParentEdu==\"Tertiary\") & (df1.Tutoring==\"No\")].Score.describe().to_dict()\n",
    "\n",
    "print(f\"urbanPrimaryNotutScore {urbanPrimaryNotutScore} \\nurbanSecondaryNotutScore {urbanSecondaryNotutScore} \\nurbanTertiaryNotutScore {urbanTertiaryNotutScore}\")"
   ]
  },
  {
   "cell_type": "code",
   "execution_count": 72,
   "id": "4a0f205d",
   "metadata": {},
   "outputs": [
    {
     "name": "stdout",
     "output_type": "stream",
     "text": [
      "urbanPrimaryYestutScore {'count': 142.0, 'mean': 79.46478873239437, 'std': 15.162796001370028, 'min': 41.1, '25%': 70.175, '50%': 80.55000000000001, '75%': 90.75, 'max': 100.0} \n",
      "urbanSecondaryYestutScore {'count': 306.0, 'mean': 82.11307189542484, 'std': 14.229434710200659, 'min': 36.1, '25%': 72.42500000000001, '50%': 82.55000000000001, '75%': 94.875, 'max': 100.0} \n",
      "urbanTertiaryYestutScore {'count': 214.0, 'mean': 83.68691588785046, 'std': 14.227428935178978, 'min': 37.3, '25%': 74.7, '50%': 84.55, '75%': 97.725, 'max': 100.0}\n"
     ]
    }
   ],
   "source": [
    "# Urban, P/S/T, Yes Tutor\n",
    "\n",
    "urbanPrimaryYestutScore = df1[(df1.Region==\"Urban\") & (df1.ParentEdu==\"Primary\") & (df1.Tutoring==\"Yes\")].Score.describe().to_dict()\n",
    "urbanSecondaryYestutScore = df1[(df1.Region==\"Urban\") & (df1.ParentEdu==\"Secondary\") & (df1.Tutoring==\"Yes\")].Score.describe().to_dict()\n",
    "urbanTertiaryYestutScore = df1[(df1.Region==\"Urban\") & (df1.ParentEdu==\"Tertiary\") & (df1.Tutoring==\"Yes\")].Score.describe().to_dict()\n",
    "\n",
    "print(f\"urbanPrimaryYestutScore {urbanPrimaryYestutScore} \\nurbanSecondaryYestutScore {urbanSecondaryYestutScore} \\nurbanTertiaryYestutScore {urbanTertiaryYestutScore}\")"
   ]
  },
  {
   "cell_type": "markdown",
   "id": "0dbcd21d",
   "metadata": {},
   "source": [
    "## **4. Modeling**"
   ]
  },
  {
   "cell_type": "markdown",
   "id": "a5ad6daf",
   "metadata": {},
   "source": [
    "Coming soon."
   ]
  },
  {
   "cell_type": "markdown",
   "id": "b689427a",
   "metadata": {},
   "source": [
    "## **5. Findings & Conclusion**"
   ]
  },
  {
   "cell_type": "markdown",
   "id": "ea5961ad",
   "metadata": {},
   "source": []
  },
  {
   "cell_type": "markdown",
   "id": "00a4fa37",
   "metadata": {},
   "source": [
    "## **Z. Bibliography**"
   ]
  },
  {
   "cell_type": "markdown",
   "id": "4617138c",
   "metadata": {},
   "source": [
    "**Mateo, J. (2025). Student Academic Performance 4000 [Dataset]. In *Kaggle*. Retrieved June 16, 2025, from https://www.kaggle.com/datasets/firedmosquito831/student-academic-performance-simulation-4000**"
   ]
  },
  {
   "cell_type": "markdown",
   "id": "0d53edf3",
   "metadata": {},
   "source": [
    "## **ZZ. Peer Feedback**"
   ]
  },
  {
   "cell_type": "markdown",
   "id": "e5a6b0da",
   "metadata": {},
   "source": [
    "From Aditi Dixit\n",
    "\n",
    "The chosen dataset of test scores in Spain and a variety of demographic information is interesting and I’m curious to see what you will find with further analysis. The code works so far, as long as the csv file is downloaded previously onto the computer of whoever is running the program. \n",
    "One area of improvement might be being more clear about who your audience is; like if it is parents trying to figure out how they can help their kids test scores, or teachers, or even students. \n",
    "Another area could be working on what the audience should do with the information. For example, if you find that students from a certain area have better scores, are you going to encourage people to move there or to look into the school and see what they may be doing differently? \n",
    "I think your planned outline structure is good, and covers everything you will need from the Intro, to EDA, to methodology ,etc. I would also recommend having the argument clearly stated before the data analysis as well, so it can be in the Introduction section, and then this is proven by the data through your analysis."
   ]
  },
  {
   "cell_type": "markdown",
   "id": "85303d6b",
   "metadata": {},
   "source": []
  }
 ],
 "metadata": {
  "kernelspec": {
   "display_name": "Python 3",
   "language": "python",
   "name": "python3"
  },
  "language_info": {
   "codemirror_mode": {
    "name": "ipython",
    "version": 3
   },
   "file_extension": ".py",
   "mimetype": "text/x-python",
   "name": "python",
   "nbconvert_exporter": "python",
   "pygments_lexer": "ipython3",
   "version": "3.9.6"
  }
 },
 "nbformat": 4,
 "nbformat_minor": 5
}
